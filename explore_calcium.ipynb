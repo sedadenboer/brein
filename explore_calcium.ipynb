{
 "cells": [
  {
   "cell_type": "code",
   "execution_count": 1,
   "id": "1dfc4dc2",
   "metadata": {},
   "outputs": [],
   "source": [
    "import numpy as np\n",
    "import os\n",
    "import pandas as pd"
   ]
  },
  {
   "cell_type": "code",
   "execution_count": 2,
   "metadata": {},
   "outputs": [
    {
     "name": "stdout",
     "output_type": "stream",
     "text": [
      "10000\n"
     ]
    }
   ],
   "source": [
    "print(len(np.arange(0, 1000000, 100)))"
   ]
  },
  {
   "cell_type": "code",
   "execution_count": 7,
   "metadata": {},
   "outputs": [],
   "source": [
    "def get_data(simulation_type, column_name):\n",
    "    if simulation_type == 'no-network':\n",
    "        file_loc = 'data/viz-no-network'\n",
    "    elif simulation_type == 'disable':\n",
    "        file_loc = 'data/viz-disable'\n",
    "\n",
    "    gathered = []\n",
    "    df_combined = pd.DataFrame()\n",
    "    \n",
    "    # Gather all the calcium levels\n",
    "    for i in range(50000):\n",
    "        # Get file path\n",
    "        monitor_file = f'{file_loc}/monitors/0_{i}.csv'\n",
    "        # Put it in a dataframe\n",
    "        df = pd.read_csv(monitor_file, header=None, sep=';',\n",
    "                         names=['step', f'fired_{i}', f'fired_fraction_{i}', f'x_{i}', f'secondary_variable_{i}',\n",
    "                                f'calcium_{i}', f'target_calcium_{i}', f'synaptic_input_{i}', f'background_activity_{i}',\n",
    "                                f'grown_axons_{i}', f'connected_axons_{i}', f'grown_excitatory_dendrites_{i}', f'connected_excitatory_dendrites_{i}'])\n",
    "\n",
    "        # Add calcium levels to a list\n",
    "        gathered.append(df[f'{column_name}_{i}'])\n",
    "    \n",
    "    # Combine all the calcium levels into a dataframe\n",
    "    df_combined = pd.concat(gathered, axis=1)\n",
    "\n",
    "    # Add steps as first column\n",
    "    steps = np.arange(0, 1000000, 100)\n",
    "    df_combined.insert(0, 'step', steps)\n",
    "\n",
    "    # Create the directory if it doesn't exist\n",
    "    output_dir = f'{file_loc}/monitors_extracted'\n",
    "    if not os.path.exists(output_dir):\n",
    "        os.makedirs(output_dir)\n",
    "\n",
    "    # Save the dataframe to a csv file\n",
    "    output_file = f'{output_dir}/{simulation_type}_{column_name}.pkl'\n",
    "    \n",
    "    # Save as pickle file\n",
    "    df_combined.to_pickle(output_file)\n",
    "\n",
    "    return df_combined"
   ]
  },
  {
   "cell_type": "code",
   "execution_count": 8,
   "metadata": {},
   "outputs": [],
   "source": [
    "columns = ['calcium', 'connected_axons']\n",
    "\n",
    "for column in columns:\n",
    "    get_data('no-network', column)\n",
    "    get_data('disable', column)"
   ]
  }
 ],
 "metadata": {
  "kernelspec": {
   "display_name": "Python 3 (ipykernel)",
   "language": "python",
   "name": "python3"
  },
  "language_info": {
   "codemirror_mode": {
    "name": "ipython",
    "version": 3
   },
   "file_extension": ".py",
   "mimetype": "text/x-python",
   "name": "python",
   "nbconvert_exporter": "python",
   "pygments_lexer": "ipython3",
   "version": "3.11.0"
  }
 },
 "nbformat": 4,
 "nbformat_minor": 5
}
